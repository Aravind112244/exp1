{
  "nbformat": 4,
  "nbformat_minor": 0,
  "metadata": {
    "colab": {
      "provenance": [],
      "authorship_tag": "ABX9TyOw7agR5aEp0AwUS93lUD3f",
      "include_colab_link": true
    },
    "kernelspec": {
      "name": "python3",
      "display_name": "Python 3"
    },
    "language_info": {
      "name": "python"
    }
  },
  "cells": [
    {
      "cell_type": "markdown",
      "metadata": {
        "id": "view-in-github",
        "colab_type": "text"
      },
      "source": [
        "<a href=\"https://colab.research.google.com/github/Aravind112244/exp1/blob/main/Untitled7.ipynb\" target=\"_parent\"><img src=\"https://colab.research.google.com/assets/colab-badge.svg\" alt=\"Open In Colab\"/></a>"
      ]
    },
    {
      "cell_type": "code",
      "source": [
        "import pandas as pd\n",
        "import numpy as np\n",
        "da = pd.read_csv('data.csv')\n",
        "print(da)\n",
        "co=np.array(da)[:,:-1]\n",
        "print(co)\n",
        "la=np.array(da)[:,-1]\n",
        "print(la)\n",
        "def train(con,tar):\n",
        "  for i,val in enumerate(tar):\n",
        "    if val==yes:\n",
        "      s_h = con[i].copy()\n",
        "      break\n",
        "  for i,val in enumerate(tar):\n",
        "    if val==yes:\n",
        "      for x in range(len(s_h)):\n",
        "        if val[x]!=s_h[x]:\n",
        "          s_h[x]='?'\n",
        "  return s_h"
      ],
      "metadata": {
        "colab": {
          "base_uri": "https://localhost:8080/"
        },
        "id": "Jjc-fw_Db5r9",
        "outputId": "72d82616-41a1-4bcd-a42b-5790a0381142"
      },
      "execution_count": 25,
      "outputs": [
        {
          "output_type": "stream",
          "name": "stdout",
          "text": [
            "     sky air temp humidity    wind water forecast enjoy sport\n",
            "0  sunny     warm   normal  strong  warm     same         yes\n",
            "1  sunny     warm     high  strong  warm     same         yes\n",
            "2  rainy     cold     high  strong  warm   change          no\n",
            "3  sunny     warm     high  strong  cool   change         yes\n",
            "[['sunny' 'warm' 'normal' 'strong' 'warm' 'same']\n",
            " ['sunny' 'warm' 'high' 'strong' 'warm' 'same']\n",
            " ['rainy' 'cold' 'high' 'strong' 'warm' 'change']\n",
            " ['sunny' 'warm' 'high' 'strong' 'cool' 'change']]\n",
            "['yes' 'yes' 'no' 'yes']\n"
          ]
        }
      ]
    }
  ]
}